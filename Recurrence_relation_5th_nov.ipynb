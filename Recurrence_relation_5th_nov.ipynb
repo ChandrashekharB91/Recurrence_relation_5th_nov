{
 "cells": [
  {
   "cell_type": "markdown",
   "id": "ae54c68e-8f02-4812-a0d9-8e1905105390",
   "metadata": {},
   "source": [
    "Q. 1) Find the value of T(2) for the recurrence relation T(n) = 3T(n-1) + 12n, given that T(0)=5."
   ]
  },
  {
   "cell_type": "markdown",
   "id": "ff2ddacc-308c-4946-9c25-764a68437ae8",
   "metadata": {},
   "source": [
    "Given that T(0) = 5     \n",
    "and T(n) = 3T(n-1) + 12n\n",
    "    \n",
    "T(1) = 3 * T(1 - 1) + 12 * 1    \n",
    "T(1) = 3 * T(0) + 12     \n",
    "T(1) = 3 * 5 + 12    \n",
    "T(1) = 15 + 12    \n",
    "T(1) = 27    \n",
    "    \n",
    "T(2) = 3 * T(2 - 1) + 12 * 2    \n",
    "T(2) = 3 * T(1) + 24    \n",
    "T(2) = 3 * 27 + 24    \n",
    "T(2) = 81 + 24    \n",
    "T(2) = 105    "
   ]
  },
  {
   "cell_type": "markdown",
   "id": "02f07d8d-67e6-41e0-9c81-ba82947a5e61",
   "metadata": {},
   "source": [
    "Q. 2) Solve the following recurrence relations using substitution method."
   ]
  },
  {
   "cell_type": "markdown",
   "id": "eae13a65-57b2-4854-a3e6-a22be16510d0",
   "metadata": {},
   "source": [
    "1. T(n) = T(n - 1) + c"
   ]
  },
  {
   "cell_type": "markdown",
   "id": "10e40c49-e17a-4de3-a23c-3586893b67dd",
   "metadata": {},
   "source": [
    "T(n - 1) = T(n - 1 - 1) + c    \n",
    "T(n - 1) = T(n - 2) + c     \n",
    "\n",
    "T(n) = T(n - 2) + c + c    \n",
    "T(n) = T(n - 2) + 2c    \n",
    "    \n",
    "T(n) = T(n - k) + kc    \n",
    "     \n",
    "for k = n - 1    \n",
    "    \n",
    "T(n) = T(n - n + 1) + (n-1)c    \n",
    "T(n) = T(1) + (n - 1)c.    \n",
    "It's time complexity is O(n)"
   ]
  },
  {
   "cell_type": "markdown",
   "id": "d74076a0-dda2-4cc7-bc46-cacb0cd03f6c",
   "metadata": {},
   "source": [
    "2. $T\\left(n\\right) = 2T\\left(\\frac{n}{2}\\right) + n $"
   ]
  },
  {
   "cell_type": "markdown",
   "id": "47e665e6-02c4-436f-ae65-b85a80b9381b",
   "metadata": {},
   "source": [
    "$ T(n) = {2}{T(\\frac{n}{2})} + n $  \n",
    "\n",
    "$ T\\left(\\frac{n}{2}\\right) = 2T\\left(\\frac{\\frac{n}{2}}{2}\\right) + \\frac{n}{2}  $    \n",
    "\n",
    "$ T\\left(\\frac{n}{2}\\right) = 2T\\left(\\frac{n}{2^2}\\right) + \\frac{n}{2} $\n",
    "\n",
    "$ T\\left(n\\right) = 2\\left(2T\\left(\\frac{n}{2^2}\\right) + \\frac{n}{2}\\right) + n $\n",
    "\n",
    "$ T\\left(n\\right) = 4T\\left(\\frac{n}{2^2}\\right) + n + n $\n",
    "\n",
    "$ T\\left(n\\right) = \\left(2^2\\right)T\\left(\\frac{n}{2^2}\\right) + 2n $\n",
    "\n",
    "in k steps\n",
    "\n",
    "$ T\\left(n\\right) = \\left(2^k\\right)T\\left(\\frac{n}{2^k}\\right) + kn $\n",
    "\n",
    "put $ n = 2^k $\n",
    "\n",
    "Hence $ k = \\log_2{n} $\n",
    "\n",
    "Therefore,    \n",
    "\n",
    "$ T\\left(n\\right) = \\left(2^{\\log_2{n}}\\right)T\\left(\\frac{n}{2^{\\log_2{n}}}\\right) + n\\log_2{n} $\n",
    "\n",
    "$ T\\left(n\\right) = nT\\left(\\frac{n}{n}\\right) + n\\log_2{n} $\n",
    "\n",
    "$ T\\left(n\\right) = nT\\left(1\\right) + n\\log_2{n} $\n",
    "\n",
    "$ T\\left(n\\right) = n\\left(T\\left(1\\right) + \\log_2{n}\\right) $\n",
    "\n",
    "which has the time complexity of $ O\\left(n\\log_2{n}\\right) $"
   ]
  },
  {
   "cell_type": "markdown",
   "id": "10999f8a-00a1-406b-a0ec-00dce6c3a461",
   "metadata": {},
   "source": [
    "3. $T\\left(n\\right) = 2T\\left(\\frac{n}{2}\\right) + c $"
   ]
  },
  {
   "cell_type": "markdown",
   "id": "0855be21-ca96-458f-a953-ed8c91972f55",
   "metadata": {},
   "source": [
    "Given $ T(n) = {2}{T(\\frac{n}{2})} + c $   \n",
    "\n",
    "$ T\\left(\\frac{n}{2}\\right) = 2T\\left(\\frac{\\frac{n}{2}}{2}\\right) + c  $ \n",
    "\n",
    "$ T\\left(\\frac{n}{2}\\right) = 2T\\left(\\frac{n}{2^2}\\right) + c $\n",
    "\n",
    "$ T\\left(n\\right) = 2\\left(2T\\left(\\frac{n}{2^2}\\right) + c\\right) + c $\n",
    "\n",
    "$ T\\left(n\\right) = 4T\\left(\\frac{n}{2^2}\\right) + 3c $\n",
    "\n",
    "$ T\\left(n\\right) = \\left(2^2\\right)T\\left(\\frac{n}{2^2}\\right) + 2c + c $\n",
    "\n",
    "Similarly, in the next step\n",
    "\n",
    "$ T\\left(n\\right) =  \\left(2^3\\right)T\\left(\\frac{n}{2^3}\\right) + 2^2 c + 2c + c$\n",
    "\n",
    "At $k^{th}$ step\n",
    "\n",
    "$ T\\left(n\\right) = 2^k T\\left(\\frac{n}{2^k}\\right) + 2^{k-1} c + \\ldots + 2^2 c + 2c + c $\n",
    "\n",
    "$ T\\left(n\\right) = 2^k T\\left(\\frac{n}{2^k}\\right) + \\left(2^{k-1} + \\ldots + 2^2 + 2 + 1\\right)c $\n",
    "\n",
    "The sum $ 2^{k-1} + \\ldots + 2^2 + 2 + 1 = \\frac{2\\left(2^{k-1} - 1\\right)}{(2 - 1)} + 1 = 2^{k} - 1 $\n",
    "\n",
    "$ T\\left(n\\right) = 2^k T\\left(\\frac{n}{2^k}\\right) + \\left(2^{k} - 1\\right)c \\ldots \\left(1\\right)$\n",
    "\n",
    "by putting $ 2^k = n $ we get\n",
    "\n",
    "$ k = \\log_2{n} $\n",
    "\n",
    "putting it in equation (1) and on solving, we get\n",
    "\n",
    "$ T\\left(n\\right) = n\\left(T\\left(1\\right) + c\\right) - c$\n",
    "\n",
    "which has the time complexity of $ O\\left(n\\right) $"
   ]
  },
  {
   "cell_type": "markdown",
   "id": "b1ceaaac-01db-452c-ad6f-700b07964055",
   "metadata": {},
   "source": [
    "4.  $T\\left(n\\right) = T\\left(\\frac{n}{2}\\right) + c $"
   ]
  },
  {
   "cell_type": "markdown",
   "id": "fc919d1a-aaed-47b6-849a-0160fd9f518b",
   "metadata": {},
   "source": [
    "Given $ T(n) = {T(\\frac{n}{2})} + c $   \n",
    "\n",
    "$ T\\left(\\frac{n}{2}\\right) = T\\left(\\frac{\\frac{n}{2}}{2}\\right) + c  $ \n",
    "\n",
    "$ T\\left(\\frac{n}{2}\\right) = T\\left(\\frac{n}{2^2}\\right) + c $\n",
    "\n",
    "Hence $ T\\left(n\\right) = T\\left(\\frac{n}{2^2}\\right) + 2c$\n",
    "\n",
    "At $ k^{th}$ step\n",
    "\n",
    "$ T\\left(n\\right) = T\\left(\\frac{n}{2^k}\\right) + kc \\ldots (1)$\n",
    "\n",
    "put $ 2^k = n $ which gives\n",
    "\n",
    "$ k = log_2{n} $\n",
    "\n",
    "putting in equation (1) and simplifying, we get\n",
    "\n",
    "$ T\\left(n\\right) = T\\left(1\\right) + c\\log_2{n}$\n",
    "\n",
    "which has the time complexity of $O\\left(\\log_2{n}\\right)$"
   ]
  },
  {
   "cell_type": "markdown",
   "id": "090f8cc9-0bbe-45ae-863e-b5a458668e11",
   "metadata": {},
   "source": [
    "Q. 3) Solve the given recurrence relations using recursive tree approach"
   ]
  },
  {
   "cell_type": "markdown",
   "id": "0f2c1102-7743-4a1c-baef-02bbb039b9de",
   "metadata": {},
   "source": [
    "1. $T\\left(n\\right) = 2T\\left(n - 1\\right) + 1$"
   ]
  },
  {
   "cell_type": "markdown",
   "id": "395b621f-c267-4f61-bb77-073a0fb554eb",
   "metadata": {},
   "source": [
    "            T(n)                        \n",
    "          /     \\\n",
    "    T(n-1)     T(n-1)+1             \n",
    "    /  \\           /   \\    \n",
    "T(n-2) T(n-2)+1 T(n-2) T(n-2)+1      \n",
    "  ...   ...     ...       ...\n"
   ]
  },
  {
   "cell_type": "markdown",
   "id": "3fd7dc1f-9e6c-4aab-8c53-c8981140fddd",
   "metadata": {},
   "source": [
    "for $ n = 1$, there are $2^0=1$ branch    \n",
    "for $ n = 2$, there are $2^1=2$ branches    \n",
    "for $ n = 3$, there are $2^2=2$ branches\n",
    "\n",
    "Hence at $n^{th}$ level there will be $2^\\left(n-1\\right)$ branches\n",
    "\n",
    "Therefore the time complexity is $O\\left(2^n\\right)$"
   ]
  },
  {
   "cell_type": "markdown",
   "id": "9f23ce11-d2f5-44fa-86a5-3f316f1739a6",
   "metadata": {},
   "source": [
    "2. $T\\left(n\\right) = 2T\\left(\\frac{n}{2}\\right) + n $"
   ]
  },
  {
   "cell_type": "markdown",
   "id": "4fd167a2-04b5-4565-81a0-f9f480b446ee",
   "metadata": {},
   "source": [
    "                      T(n)\n",
    "                 /          \\\n",
    "           T(n/2)            T(n/2)+n\n",
    "           /    \\           /         \\\n",
    "     T(n/4) T(n/4)+(n/2) T(n/4)+(n/2) T(n/4)+(n/2)+(n/2)\n",
    "       ...   ...     ...    ...\n"
   ]
  },
  {
   "cell_type": "markdown",
   "id": "d524cbc5-cdd4-49c4-bab3-dcd464bf07da",
   "metadata": {},
   "source": [
    "Generalizing the above, the number of branches at $k^{th}$ node are:    \n",
    "\n",
    "$ 2^{k}T\\left(\\frac{n}{2^k}\\right) + kn $    \n",
    "\n",
    "by putting $2^k = n$ in above equation we get\n",
    "\n",
    "$T\\left(n\\right) = nT\\left(1\\right) + nlog_2{n}$\n",
    "\n",
    "Hence $T\\left(n\\right) = n\\left(T\\left(1\\right) + log_2{n}\\right)$\n",
    "\n",
    "which is of the time complexity $O(nlog_2{n})$"
   ]
  },
  {
   "cell_type": "code",
   "execution_count": null,
   "id": "7b7123e7-efb5-4f72-8c5b-231e2d177d20",
   "metadata": {},
   "outputs": [],
   "source": []
  }
 ],
 "metadata": {
  "kernelspec": {
   "display_name": "Python 3 (ipykernel)",
   "language": "python",
   "name": "python3"
  },
  "language_info": {
   "codemirror_mode": {
    "name": "ipython",
    "version": 3
   },
   "file_extension": ".py",
   "mimetype": "text/x-python",
   "name": "python",
   "nbconvert_exporter": "python",
   "pygments_lexer": "ipython3",
   "version": "3.11.5"
  }
 },
 "nbformat": 4,
 "nbformat_minor": 5
}
